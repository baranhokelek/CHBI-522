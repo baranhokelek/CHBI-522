{
  "cells": [
    {
      "cell_type": "markdown",
      "id": "9b7ff968",
      "metadata": {
        "id": "9b7ff968"
      },
      "source": [
        "Before you turn this problem in, make sure everything runs as expected. First, **restart the kernel** (in the menubar, select Runtime$\\rightarrow$Restart runtime) and then **run all cells** (in the menubar, select Runtime$\\rightarrow$Run all).\n",
        "\n",
        "Make sure you fill in any place that says `YOUR CODE HERE` or \"YOUR ANSWER HERE\", as well as your name and ID below:"
      ]
    },
    {
      "cell_type": "code",
      "execution_count": 7,
      "id": "73dd8720",
      "metadata": {
        "id": "73dd8720"
      },
      "outputs": [],
      "source": [
        "NAME = \"Baran Berkay Hökelek\"\n",
        "KUID = \"0060673\""
      ]
    },
    {
      "cell_type": "markdown",
      "id": "6fb01775",
      "metadata": {
        "id": "6fb01775"
      },
      "source": [
        "---"
      ]
    },
    {
      "cell_type": "markdown",
      "id": "bb187111",
      "metadata": {
        "deletable": false,
        "editable": false,
        "nbgrader": {
          "cell_type": "markdown",
          "checksum": "b07a67d800bc7d87aa7fe6b887f7a162",
          "grade": false,
          "grade_id": "cell-d31b679dc3f8697e",
          "locked": true,
          "schema_version": 3,
          "solution": false,
          "task": false
        },
        "id": "bb187111"
      },
      "source": [
        "<h2 style=\"text-align: center; line-height: 0px;\">CHBI 422 / 522</h2>\n",
        "<h3 style=\"text-align: center; line-height: 0px;\">Spring 2022</h3>\n",
        "<h3 style=\"text-align: center; line-height: 0px;\">Homework 2</h3>\n",
        "<h4 style=\"text-align: center; line-height: 0px;\">Due date: March 23, 2022 - 23:59</h4>\n",
        "\n",
        "<hr>\n",
        "\n",
        "In this homework you are going to work with a pre-modified PDB file. You will be required to do calculate some angles, distances, and apply some transformations. This notebook will guide you through the steps of the homework. Check the provided test cases to make sure that you have the same requirement format.\n",
        "\n",
        "To complete these homeworks, you will use Google Colab.If you experience any problems please get in touch with the TA: zabali16@ku.edu.tr\n",
        "\n",
        "**Submission** <br>\n",
        "After you are done and passed all the test, please submit this notebook to Blackboard. If you are not getting full points from a test, you may be failing some hidden tests. Think about the edge cases (your code might be working in general, but failing for some special cases). Please do not forget to **save** your work before you submit, and **check** whether you are in the final version."
      ]
    },
    {
      "cell_type": "markdown",
      "id": "447e210b",
      "metadata": {
        "deletable": false,
        "editable": false,
        "nbgrader": {
          "cell_type": "markdown",
          "checksum": "beb4a4d68c81787e8fd47be20c2b878e",
          "grade": false,
          "grade_id": "cell-54d44a562da21c2f",
          "locked": true,
          "schema_version": 3,
          "solution": false,
          "task": false
        },
        "id": "447e210b"
      },
      "source": [
        "**Importing Libraries** <br>\n",
        "Please run the below cell to import the necessary libraries. Do not import any libraries other then the ones provided. If a library, or function you want to use is not included in the following cell, then you are not allowed to use it for this homework."
      ]
    },
    {
      "cell_type": "code",
      "execution_count": 54,
      "id": "bf9e1e7d",
      "metadata": {
        "deletable": false,
        "editable": false,
        "nbgrader": {
          "cell_type": "code",
          "checksum": "5af86b64d3b0b2d5bdf80b6dafecaaab",
          "grade": false,
          "grade_id": "cell-16df3b55f4fc3ca4",
          "locked": true,
          "schema_version": 3,
          "solution": false,
          "task": false
        },
        "id": "bf9e1e7d"
      },
      "outputs": [],
      "source": [
        "import numpy as np\n",
        "import matplotlib.pyplot as plt\n",
        "np.set_printoptions(suppress=True)"
      ]
    },
    {
      "cell_type": "markdown",
      "id": "b76a99cc",
      "metadata": {
        "deletable": false,
        "editable": false,
        "nbgrader": {
          "cell_type": "markdown",
          "checksum": "89e8f3c3110767b1626adb93fa382e54",
          "grade": false,
          "grade_id": "cell-4b531a1d56fd6802",
          "locked": true,
          "schema_version": 3,
          "solution": false,
          "task": false
        },
        "id": "b76a99cc"
      },
      "source": [
        "### Part 1 - Reading a PDB File as a NumPy Array (10 points)"
      ]
    },
    {
      "cell_type": "markdown",
      "id": "45fdce2f",
      "metadata": {
        "deletable": false,
        "editable": false,
        "nbgrader": {
          "cell_type": "markdown",
          "checksum": "d357c5f8bc6d42497f9e211e05a18465",
          "grade": false,
          "grade_id": "cell-2639203a7b0ee4b5",
          "locked": true,
          "schema_version": 3,
          "solution": false,
          "task": false
        },
        "id": "45fdce2f"
      },
      "source": [
        "Run the below cell to download the PDB file for this assignment."
      ]
    },
    {
      "cell_type": "code",
      "execution_count": 9,
      "id": "9db7d257",
      "metadata": {
        "deletable": false,
        "editable": false,
        "nbgrader": {
          "cell_type": "code",
          "checksum": "be4de1adeb390445e9da51e8ce69de7b",
          "grade": false,
          "grade_id": "cell-560be145b4a4beb4",
          "locked": true,
          "schema_version": 3,
          "solution": false,
          "task": false
        },
        "colab": {
          "base_uri": "https://localhost:8080/"
        },
        "id": "9db7d257",
        "outputId": "7707deff-0e50-4ced-f1b2-820e5e9a2d7e"
      },
      "outputs": [
        {
          "output_type": "stream",
          "name": "stdout",
          "text": [
            "--2022-03-22 16:09:39--  https://raw.githubusercontent.com/zeynepabali/ku_chbi522/main/hw2.pdb\n",
            "Resolving raw.githubusercontent.com (raw.githubusercontent.com)... 185.199.111.133, 185.199.110.133, 185.199.108.133, ...\n",
            "Connecting to raw.githubusercontent.com (raw.githubusercontent.com)|185.199.111.133|:443... connected.\n",
            "HTTP request sent, awaiting response... 200 OK\n",
            "Length: 2430 (2.4K) [text/plain]\n",
            "Saving to: ‘hw2.pdb’\n",
            "\n",
            "\rhw2.pdb               0%[                    ]       0  --.-KB/s               \rhw2.pdb             100%[===================>]   2.37K  --.-KB/s    in 0s      \n",
            "\n",
            "2022-03-22 16:09:39 (31.5 MB/s) - ‘hw2.pdb’ saved [2430/2430]\n",
            "\n"
          ]
        }
      ],
      "source": [
        "!wget -O hw2.pdb https://raw.githubusercontent.com/zeynepabali/ku_chbi522/main/hw2.pdb"
      ]
    },
    {
      "cell_type": "markdown",
      "id": "38821123",
      "metadata": {
        "deletable": false,
        "editable": false,
        "nbgrader": {
          "cell_type": "markdown",
          "checksum": "352dc40024eb31fd4f64c6c663f348fd",
          "grade": false,
          "grade_id": "cell-c41614a2ce4ab389",
          "locked": true,
          "schema_version": 3,
          "solution": false,
          "task": false
        },
        "id": "38821123"
      },
      "source": [
        "A few sample lines from the downloaded file looks like below: <br>\n",
        "ATOM&emsp;1&emsp;N&ensp;&emsp;THR&emsp;1&emsp;-7.712&emsp;14.556&emsp;16.794&emsp;1.00&emsp;17.45&emsp;N <br>\n",
        "ATOM&emsp;2&emsp;CA&emsp;THR&emsp;1&emsp;-7.046&emsp;15.510&emsp;17.660&emsp;1.00&emsp;16.13&emsp;C <br>\n",
        "ATOM&emsp;3&emsp;C&ensp;&emsp;THR&emsp;1&emsp;-6.849&emsp;14.891&emsp;19.045&emsp;1.00&emsp;14.58&emsp;C <br>\n",
        "ATOM&emsp;8&emsp;N&ensp;&emsp;VAL&emsp;2&emsp;-5.693&emsp;15.098&emsp;19.646&emsp;1.00&emsp;12.07&emsp;N <br>\n",
        "ATOM&emsp;9&emsp;CA&emsp;VAL&emsp;2&emsp;-5.490&emsp;14.585&emsp;21.007&emsp;1.00&emsp;10.98&emsp;C\n",
        "\n",
        "This file is already cleaned for you. It only contains the backbone atoms (N, CA, C), and no side chain atoms for your convenience.\n",
        "\n",
        "Each column in this file has a meaning. Normally, PDB files include much more information than the atom position of a molecules atoms. You can check one if you wish to here: https://files.rcsb.org/view/1A09.pdb Let us go over what each column in this file tells us:\n",
        "\n",
        "**Column 1:** \"ATOM\" identifier specifies that this line gives information about an atom in the strucure. <br>\n",
        "**Column 2:** Atom number - They are not continues in our case, since we removed the side chain atoms. <br>\n",
        "**Column 3:** Atom type <br>\n",
        "**Column 4:** Residue type <br>\n",
        "**Column 5:** Residue number <br>\n",
        "**Column 6:** X coordinate <br>\n",
        "**Column 7:** Y coordinate <br>\n",
        "**Column 8:** Z coordinate <br>\n",
        "**Column 9:** Occupancy <br>\n",
        "**Column 10:** B factor <br>\n",
        "**Column 11:** Atom type\n",
        "\n",
        "Since we are interested in the coordinates of the atoms in this homework, we are going to use columns 3,5-8. Though, remember when you are coding that Python is zero-indexed."
      ]
    },
    {
      "cell_type": "code",
      "execution_count": 12,
      "id": "9063986b",
      "metadata": {
        "deletable": false,
        "nbgrader": {
          "cell_type": "code",
          "checksum": "a66eb06faa61ad0588acca9976262658",
          "grade": false,
          "grade_id": "cell-39d6de068a9e4150",
          "locked": false,
          "schema_version": 3,
          "solution": true,
          "task": false
        },
        "id": "9063986b"
      },
      "outputs": [],
      "source": [
        "def read_pdb_file(file_path):\n",
        "  \"\"\" Read the coordinates of atoms from a PDB file and return a dictionary of coordinate lists \n",
        "      You may want to check np.genfromtxt() and its additional parameters, or you can use any \n",
        "      file reading method you feel comfortable\n",
        "      You will need \"Atom type\", \"Residue Number\", \"X-Y-Z\" coordinates \n",
        "      Your final output should look like:\n",
        "      {\"Residue number\": {\"Atom type\": [x-y-z coordinates]}}\"\"\"\n",
        "\n",
        "  \"\"\"\n",
        "  **Column 1:** \"ATOM\" identifier specifies that this line gives information about an atom in the strucure. <br>\n",
        "  **Column 2:** Atom number - They are not continues in our case, since we removed the side chain atoms. <br>\n",
        "  **Column 3:** Atom type <br>\n",
        "  **Column 4:** Residue type <br>\n",
        "  **Column 5:** Residue number <br>\n",
        "  **Column 6:** X coordinate <br>\n",
        "  **Column 7:** Y coordinate <br>\n",
        "  **Column 8:** Z coordinate <br>\n",
        "  **Column 9:** Occupancy <br>\n",
        "  **Column 10:** B factor <br>\n",
        "  **Column 11:** Atom type\n",
        "  \"\"\"\n",
        "  ATOM_TYPE_INDEX = 2\n",
        "  RESIDUE_TYPE_INDEX = 3\n",
        "  RESIDUE_NUMBER_INDEX = 4\n",
        "  X_COORDINATE_INDEX = 5\n",
        "  Y_COORDINATE_INDEX = 6\n",
        "  Z_COORDINATE_INDEX = 7\n",
        "  \n",
        "\n",
        "  data = np.genfromtxt('hw2.pdb', dtype=None, encoding=None)\n",
        "  size = len(data)\n",
        "  pdb_dict = {}\n",
        "  for ind_main in range(size):\n",
        "    if ind_main > 0 and data[ind_main-1][RESIDUE_NUMBER_INDEX] == data[ind_main][RESIDUE_NUMBER_INDEX]:\n",
        "      continue\n",
        "    res_num = data[ind_main][RESIDUE_NUMBER_INDEX]\n",
        "    pdb_dict[res_num] = {}\n",
        "    ind_side = ind_main\n",
        "    while ind_side < size and data[ind_side][RESIDUE_NUMBER_INDEX] == data[ind_main][RESIDUE_NUMBER_INDEX]:\n",
        "      atom = data[ind_side][ATOM_TYPE_INDEX]\n",
        "      coords = [data[ind_side][X_COORDINATE_INDEX], data[ind_side][Y_COORDINATE_INDEX], data[ind_side][Z_COORDINATE_INDEX]]\n",
        "      pdb_dict[res_num][atom] = coords\n",
        "      ind_side += 1\n",
        "\n",
        "\n",
        "  return pdb_dict"
      ]
    },
    {
      "cell_type": "code",
      "execution_count": 13,
      "id": "5e93365e",
      "metadata": {
        "deletable": false,
        "editable": false,
        "nbgrader": {
          "cell_type": "code",
          "checksum": "d24054b24ed1be2f9302c77cd4fbcae3",
          "grade": true,
          "grade_id": "cell-85a943573f9807bf",
          "locked": true,
          "points": 5,
          "schema_version": 3,
          "solution": false,
          "task": false
        },
        "id": "5e93365e"
      },
      "outputs": [],
      "source": [
        "assert len(read_pdb_file('hw2.pdb')) == 10\n",
        "assert read_pdb_file('hw2.pdb')[4] == {'N': [-6.222, 16.563, 26.096], 'CA': [-5.723, 16.132, 27.38], 'C': [-6.713, 16.614, 28.449]}\n",
        "assert read_pdb_file('hw2.pdb')[2]['N'] == [-5.693, 15.098, 19.646]\n",
        "assert read_pdb_file('hw2.pdb')[10]['CA'] == [-11.739, 13.008, 46.64]"
      ]
    },
    {
      "cell_type": "markdown",
      "id": "c4c51026",
      "metadata": {
        "deletable": false,
        "editable": false,
        "nbgrader": {
          "cell_type": "markdown",
          "checksum": "4839968030c2de056b85faf522c9f1eb",
          "grade": false,
          "grade_id": "cell-2a98bb92b8de939b",
          "locked": true,
          "schema_version": 3,
          "solution": false,
          "task": false
        },
        "id": "c4c51026"
      },
      "source": [
        "### Part 2 - Calculating the angles and transformation matrices by hand (25 Points)\n",
        "\n",
        "You can either type your solution using $\\LaTeX$ in the next cell, or you can upload a scanned copy of your hand-written solution to Blackboard (Please make sure that your hand-written solution is readable). You will get the full point for a correct solution in either case!\n",
        "\n",
        "Using $\\LaTeX$ may appear a bit complicated at first. But, we would suggest giving it a *few* chances. Here are some resources to help you with getting started:\n",
        "https://jupyterbook.org/content/math.html <br>\n",
        "https://www.overleaf.com/learn/latex/Mathematical_expressions\n",
        "\n",
        "Try to copy-paste a few equations from the first link to see how it works. Then you can work your way towards your own solution by changing bits and pieces."
      ]
    },
    {
      "cell_type": "markdown",
      "id": "5c7adabc",
      "metadata": {
        "deletable": false,
        "editable": false,
        "nbgrader": {
          "cell_type": "markdown",
          "checksum": "c87792cdc9fe1161a1afd9ae92baa670",
          "grade": false,
          "grade_id": "cell-cc0d932ae57c0cf1",
          "locked": true,
          "schema_version": 3,
          "solution": false,
          "task": false
        },
        "id": "5c7adabc"
      },
      "source": [
        "Calculate the bond vectors, phi (𝜙), psi (𝜓), omega (𝜔), theta (𝜃) angles \n",
        "\n",
        "1.   List item\n",
        "2.   List item\n",
        "\n",
        "for **residue number 4 (TYR)**."
      ]
    },
    {
      "cell_type": "code",
      "source": [
        "print(read_pdb_file('hw2.pdb')[3])\n",
        "print(read_pdb_file('hw2.pdb')[4])\n",
        "print(read_pdb_file('hw2.pdb')[5])"
      ],
      "metadata": {
        "colab": {
          "base_uri": "https://localhost:8080/"
        },
        "id": "9VKKNW1wFWhD",
        "outputId": "bb2b7e2d-730e-42e0-be2a-3579bbdb9cd4"
      },
      "id": "9VKKNW1wFWhD",
      "execution_count": 14,
      "outputs": [
        {
          "output_type": "stream",
          "name": "stdout",
          "text": [
            "{'N': [-6.867, 15.389, 22.802], 'CA': [-7.253, 16.247, 23.919], 'C': [-6.661, 15.678, 25.19]}\n",
            "{'N': [-6.222, 16.563, 26.096], 'CA': [-5.723, 16.132, 27.38], 'C': [-6.713, 16.614, 28.449]}\n",
            "{'N': [-7.246, 15.673, 29.198], 'CA': [-8.238, 15.938, 30.232], 'C': [-7.695, 15.622, 31.609]}\n"
          ]
        }
      ]
    },
    {
      "cell_type": "markdown",
      "id": "1e7f966b",
      "metadata": {
        "deletable": false,
        "nbgrader": {
          "cell_type": "code",
          "checksum": "3fc2725bfbbe2c7d4cf5e236d99cddd6",
          "grade": true,
          "grade_id": "cell-9bdf6b32d4168b6a",
          "locked": false,
          "points": 20,
          "schema_version": 3,
          "solution": true,
          "task": false
        },
        "id": "1e7f966b"
      },
      "source": [
        "The $\\phi_4$ angle is calculated between the two half-planes defined by: $\\left(C_{3}, N_4, C_{\\alpha_4}\\right)$ and $\\left(N_4, C_{\\alpha_4}, C_4\\right)$.\n",
        "\n",
        "For the first plane, let's calculate the 2 vectors:\n",
        "\n",
        "$\\textbf{u}_1 = N_4 - C_3 = (-6.222, 16.563, 26.096) - (-6.661, 15.678, 25.19) = (0.439, 0.885, 0.906)$ \n",
        "\n",
        "$\\textbf{u}_2 = C_{\\alpha_4} - N_4 = (-5.723, 16.132, 27.38) - (-6.222, 16.563, 26.096) = (0.499, -0.431, 1.284)$\n",
        "\n",
        "Let's repeat the process for the other half-plane. They will share the vector $\\textbf{u}_2$, so there's no need to recalculate that.\n",
        "\n",
        "$\\textbf{u}_3 = C_4 - C_{\\alpha_4} = (-6.713, 16.614, 28.449) - (-5.723, 16.132, 27.38) = (-0.99, 0.482, 1.069)$\n",
        "\n",
        "The dihedral angle formulas are given by:\n",
        "\n",
        "$\\cos(\\phi) = \\frac{\\left( \\mathbf{u}_1 \\times \\mathbf{u}_2 \\right) \\cdot \\left( \\mathbf{u}_2 \\times \\mathbf{u}_3 \\right)}{\\left| \\mathbf{u}_1 \\times \\mathbf{u}_2 \\right| \\left| \\mathbf{u}_2 \\times \\mathbf{u}_3 \\right|} = \\frac{(1.52683, -0.111582, -0.630824) \\cdot (-1.07963, -1.80459, -0.186172)}{3.49554} = -0.380373$\n",
        "\n",
        "$\\sin(\\phi) = \\frac{\\mathbf{u}_2 \\cdot \\left( \\left( \\mathbf{u}_1 \\times \\mathbf{u}_2 \\right) \\times \\left( \\mathbf{u}_2 \\times \\mathbf{u}_3 \\right) \\right)}{\\left| \\mathbf{u}_2 \\right| \\left| \\mathbf{u}_1 \\times \\mathbf{u}_2 \\right| \\left| \\mathbf{u}_2 \\times \\mathbf{u}_3 \\right|} = \\frac{(0.499, -0.431, 1.284) \\cdot \\left( (1.52683, -0.111582, -0.630824) \\times (-1.07963, -1.80459, -0.186172) \\right)}{5.04548} = -0.924832$\n",
        "\n",
        "So, the angle $\\phi_4$ is $-1.961rad = -112.36°$.\n",
        "\n",
        "\n",
        "##############################################################################\n",
        "\n",
        "The $\\psi_4$ angle is calculated between the two half-planes defined by: $\\left(N_4, C_{\\alpha_4}, C_4\\right)$ and $\\left(C_{\\alpha_4}, C_4, N_5\\right)$.\n",
        "\n",
        "For the first plane, the calculations are done above (They are $\\textbf{u}_2$ and $\\textbf{u}_3$):\n",
        "\n",
        "$\\textbf{u}_2 = (0.499, -0.431, 1.284)$ \n",
        "\n",
        "$\\textbf{u}_3 = (-0.99, 0.482, 1.069)$\n",
        "\n",
        "Let's repeat the process for the other half-plane. They will share the vector $\\textbf{u}_3$, so there's no need to recalculate that.\n",
        "\n",
        "$\\textbf{u}_4 = N_5 - C_4 = (-7.246, 15.673, 29.198) - (-6.713, 16.614, 28.449) = (-0.533, -0.941, 0.749)$\n",
        "\n",
        "The dihedral angle formulas are given by:\n",
        "\n",
        "$\\cos(\\psi) = \\frac{\\left( \\mathbf{u}_2 \\times \\mathbf{u}_3 \\right) \\cdot \\left( \\mathbf{u}_3 \\times \\mathbf{u}_4 \\right)}{\\left| \\mathbf{u}_2 \\times \\mathbf{u}_3 \\right| \\left| \\mathbf{u}_3 \\times \\mathbf{u}_4 \\right|} = \\frac{(-1.07963, -1.80459, -0.186172) \\cdot (1.36695, 0.171733, 1.1885)}{3.84117} = -0.52249$\n",
        "\n",
        "$\\sin(\\psi) = \\frac{\\mathbf{u}_3 \\cdot \\left( \\left( \\mathbf{u}_2 \\times \\mathbf{u}_3 \\right) \\times \\left( \\mathbf{u}_3 \\times \\mathbf{u}_4 \\right) \\right)}{\\left| \\mathbf{u}_3 \\right| \\left| \\mathbf{u}_2 \\times \\mathbf{u}_3 \\right| \\left| \\mathbf{u}_3 \\times \\mathbf{u}_4 \\right|} = \\frac{(-0.99, 0.482, 1.069) \\cdot \\left( (-1.07963, -1.80459, -0.186172) \\times (1.36695, 0.171733, 1.1885) \\right)}{5.8949} = 0.852645$\n",
        "\n",
        "So, the angle $\\psi_4$ is $2.12056rad = 121.5°$.\n",
        "\n",
        "\n",
        "##############################################################################\n",
        "\n",
        "The $\\omega_4$ angle is calculated between the two half-planes defined by: $\\left(C_{\\alpha_4}, C_4, N_5\\right)$ and $\\left( C_4, N_5, C_{\\alpha_5}\\right)$.\n",
        "\n",
        "For the first plane, the calculations are done above (They are $\\textbf{u}_3$ and $\\textbf{u}_4$):\n",
        "\n",
        "$\\textbf{u}_3 = (-0.99, 0.482, 1.069)$ \n",
        "\n",
        "$\\textbf{u}_4 = (-0.533, -0.941, 0.749)$\n",
        "\n",
        "Let's repeat the process for the other half-plane. They will share the vector $\\textbf{u}_4$, so there's no need to recalculate that.\n",
        "\n",
        "$\\textbf{u}_5 = C_{\\alpha_5} - N_5 = (-8.238, 15.938, 30.232) - (-7.246, 15.673, 29.198) = (-0.992, 0.265, 1.034)$\n",
        "\n",
        "The dihedral angle formulas are given by:\n",
        "\n",
        "$\\cos(\\omega) = \\frac{\\left( \\mathbf{u}_3 \\times \\mathbf{u}_4 \\right) \\cdot \\left( \\mathbf{u}_4 \\times \\mathbf{u}_5 \\right)}{\\left| \\mathbf{u}_3 \\times \\mathbf{u}_4 \\right| \\left| \\mathbf{u}_4 \\times \\mathbf{u}_5 \\right|} = -0.999321$\n",
        "\n",
        "$\\sin(\\omega) = \\frac{\\mathbf{u}_4 \\cdot \\left( \\left( \\mathbf{u}_3 \\times \\mathbf{u}_4 \\right) \\times \\left( \\mathbf{u}_4 \\times \\mathbf{u}_5 \\right) \\right)}{\\left| \\mathbf{u}_4 \\right| \\left| \\mathbf{u}_3 \\times \\mathbf{u}_4 \\right| \\left| \\mathbf{u}_4 \\times \\mathbf{u}_5 \\right|} = -0.0368420$\n",
        "\n",
        "So, the angle $\\omega_4$ is $-3.10474rad = -177.888°$.\n",
        "\n",
        "\n",
        "##############################################################################\n",
        "\n",
        "\n",
        "$\\theta_4$ is the angle between the successive $C_{\\alpha}$ atoms $\\widehat{C_{\\alpha_3} C_{\\alpha_4} C_{\\alpha_5}}$. We need to calculate 2 vectors:\n",
        "\n",
        "1. $\\textbf{u}_1$, the vector connecting $C_{\\alpha_3}$ and $C_{\\alpha_4}$.\n",
        "2. $\\textbf{u}_2$, the vector connecting $C_{\\alpha_4}$ and $C_{\\alpha_5}$.\n",
        "\n",
        "Then we can use the law of cosines to find the angle $\\theta$:\n",
        "\n",
        "$(\\textbf{u}_1 - \\textbf{u}_2) \\cdot (\\textbf{u}_1 - \\textbf{u}_2) = \\textbf{u}_1^{2} + \\textbf{u}_2^{2} - 2\\|\\textbf{u}_1\\| \\|\\textbf{u}_2\\| \\cos\\theta$\n",
        "\n",
        "$\\textbf{u}_1 = \\overrightarrow{C_{\\alpha_3}} - \\overrightarrow{C_{\\alpha_4}} = (-7.253, 16.247, 23.919) - (-5.723, 16.132, 27.38)  = (-1.53, 0.115, -3.461)$\n",
        "\n",
        "$\\textbf{u}_2 = \\overrightarrow{C_{\\alpha_5}} - \\overrightarrow{C_{\\alpha_4}} = (-8.238, 15.938, 30.232) - (-5.723, 16.132, 27.38) = (-2.515, -0.194, 2.852)$\n",
        "\n",
        "So, $\\theta_4$ is $2.00356$ rads = $114.795°$"
      ]
    },
    {
      "cell_type": "markdown",
      "id": "314805ff",
      "metadata": {
        "deletable": false,
        "editable": false,
        "nbgrader": {
          "cell_type": "markdown",
          "checksum": "1259441bca0acb12934760b7fc9128f8",
          "grade": false,
          "grade_id": "cell-e4f512c4595f53b3",
          "locked": true,
          "schema_version": 3,
          "solution": false,
          "task": false
        },
        "id": "314805ff"
      },
      "source": [
        "Use transformation matrices to go back to rectilinear coordinate system."
      ]
    },
    {
      "cell_type": "markdown",
      "id": "d2d791c4",
      "metadata": {
        "deletable": false,
        "nbgrader": {
          "cell_type": "code",
          "checksum": "2d3ccf2ae59f1b9a758e34f8af16fd19",
          "grade": true,
          "grade_id": "cell-8b453a7131e60696",
          "locked": false,
          "points": 10,
          "schema_version": 3,
          "solution": true,
          "task": false
        },
        "id": "d2d791c4"
      },
      "source": [
        "(-)"
      ]
    },
    {
      "cell_type": "markdown",
      "id": "f7a53d91",
      "metadata": {
        "deletable": false,
        "editable": false,
        "nbgrader": {
          "cell_type": "markdown",
          "checksum": "37a1fa5fa1ecc1da42d7f993582441d9",
          "grade": false,
          "grade_id": "cell-660158bd1186440d",
          "locked": true,
          "schema_version": 3,
          "solution": false,
          "task": false
        },
        "id": "f7a53d91"
      },
      "source": [
        "### Part 3 - Calculating the dihedral angles with Python (25 Points)\n",
        "\n",
        "In this part, you are going to use Python to repeat Part 2 for all residues in the file. You will start by creating the necessary functions, and then use those functions to calculate the dihedral angles for each residue."
      ]
    },
    {
      "cell_type": "code",
      "execution_count": 15,
      "id": "947fcd9b",
      "metadata": {
        "deletable": false,
        "nbgrader": {
          "cell_type": "code",
          "checksum": "375fd099e7b9891aea90f7510f5eb517",
          "grade": false,
          "grade_id": "cell-8936c02d86269c0b",
          "locked": false,
          "schema_version": 3,
          "solution": true,
          "task": false
        },
        "id": "947fcd9b"
      },
      "outputs": [],
      "source": [
        "def calculate_phi(aa1, aa2):\n",
        "    \"\"\" Given two consecutive amino acids, calculate the phi angle for the second one\n",
        "        Return the angle in degrees \"\"\"\n",
        "\n",
        "    N_INDEX = 'N'\n",
        "    C_ALPHA_INDEX = 'CA'\n",
        "    C_INDEX = 'C'\n",
        "\n",
        "    c_1 = np.array(aa1[C_INDEX])\n",
        "    n_2 = np.array(aa2[N_INDEX])\n",
        "    ca_2 = np.array(aa2[C_ALPHA_INDEX])\n",
        "    c_2 = np.array(aa2[C_INDEX])\n",
        "    \n",
        "    # difference vectors\n",
        "    u_1 = n_2 - c_1\n",
        "    u_2 = ca_2 - n_2\n",
        "    u_3 = c_2 - ca_2\n",
        "\n",
        "    l_1 = np.linalg.norm(u_1)\n",
        "    l_2 = np.linalg.norm(u_2)\n",
        "    l_3 = np.linalg.norm(u_3)\n",
        "\n",
        "    n_1 = np.cross(u_1, u_2)\n",
        "    n_2 = np.cross(u_2, u_3)\n",
        "    \n",
        "    u = n_1 / np.linalg.norm(n_1)\n",
        "    v = n_2 / np.linalg.norm(n_2)\n",
        "    \n",
        "    u_dot_v = np.dot(u, v)\n",
        "    radians = np.arccos(u_dot_v)\n",
        "    \n",
        "    sign = np.sign(np.dot(u, u_3))\n",
        "    phi = np.degrees(radians)\n",
        "    \n",
        "    if sign != np.sign(phi):\n",
        "        phi = -1 * phi\n",
        "\n",
        "    return phi"
      ]
    },
    {
      "cell_type": "code",
      "execution_count": 16,
      "id": "379d4cb5",
      "metadata": {
        "deletable": false,
        "editable": false,
        "nbgrader": {
          "cell_type": "code",
          "checksum": "2d981b18838ff99268d3aabe7a4dcfdb",
          "grade": true,
          "grade_id": "cell-0993be096f46ffd3",
          "locked": true,
          "points": 10,
          "schema_version": 3,
          "solution": false,
          "task": false
        },
        "id": "379d4cb5"
      },
      "outputs": [],
      "source": [
        "test_protein = read_pdb_file('hw2.pdb')\n",
        "assert np.isclose(calculate_phi(test_protein[1], test_protein[2]), -92.9674)"
      ]
    },
    {
      "cell_type": "code",
      "execution_count": 17,
      "id": "eab8dd58",
      "metadata": {
        "deletable": false,
        "nbgrader": {
          "cell_type": "code",
          "checksum": "2a68f6f81d056d2e5e576ed3799e6643",
          "grade": false,
          "grade_id": "cell-0442d1cebbe54d0b",
          "locked": false,
          "schema_version": 3,
          "solution": true,
          "task": false
        },
        "id": "eab8dd58"
      },
      "outputs": [],
      "source": [
        "def calculate_psi(aa1, aa2):\n",
        "    \"\"\" Given two consecutive amino acids, calculate the psi angle for the first one \n",
        "        Return the angle in degrees \"\"\"\n",
        "    \n",
        "    N_INDEX = 'N'\n",
        "    C_ALPHA_INDEX = 'CA'\n",
        "    C_INDEX = 'C'\n",
        "\n",
        "    n_1 = np.array(aa1[N_INDEX])\n",
        "    ca_1 = np.array(aa1[C_ALPHA_INDEX])\n",
        "    c_1 = np.array(aa1[C_INDEX])\n",
        "    n_2 = np.array(aa2[N_INDEX])\n",
        "    \n",
        "    atom_vecs = [n_1, ca_1, c_1, n_2]\n",
        "\n",
        "    # difference vectors\n",
        "    u_1 = atom_vecs[1] - atom_vecs[0]\n",
        "    u_2 = atom_vecs[2] - atom_vecs[1]\n",
        "    u_3 = atom_vecs[3] - atom_vecs[2]\n",
        "\n",
        "    l_1 = np.linalg.norm(u_1)\n",
        "    l_2 = np.linalg.norm(u_2)\n",
        "    l_3 = np.linalg.norm(u_3)\n",
        "\n",
        "    n_1 = np.cross(u_1, u_2)\n",
        "    n_2 = np.cross(u_2, u_3)\n",
        "    \n",
        "    u = n_1 / np.linalg.norm(n_1)\n",
        "    v = n_2 / np.linalg.norm(n_2)\n",
        "    \n",
        "    u_dot_v = np.dot(u, v)\n",
        "    radians = np.arccos(u_dot_v)\n",
        "    \n",
        "    sign = np.sign(np.dot(u, u_3))\n",
        "    psi = np.degrees(radians)\n",
        "    \n",
        "    if sign != np.sign(psi):\n",
        "        psi = -1 * psi\n",
        "\n",
        "    return psi"
      ]
    },
    {
      "cell_type": "code",
      "execution_count": 18,
      "id": "0c838b8b",
      "metadata": {
        "deletable": false,
        "editable": false,
        "nbgrader": {
          "cell_type": "code",
          "checksum": "90b7c0ed92a1385aca2b2f3ffee39147",
          "grade": true,
          "grade_id": "cell-22eb6d61f5b5c4f2",
          "locked": true,
          "points": 10,
          "schema_version": 3,
          "solution": false,
          "task": false
        },
        "id": "0c838b8b"
      },
      "outputs": [],
      "source": [
        "test_protein = read_pdb_file('hw2.pdb')\n",
        "assert np.isclose(calculate_psi(test_protein[1], test_protein[2]), 138.2198)"
      ]
    },
    {
      "cell_type": "code",
      "execution_count": 19,
      "id": "457959f2",
      "metadata": {
        "deletable": false,
        "nbgrader": {
          "cell_type": "code",
          "checksum": "2d9702e2fa0e05b5114cbfd64a823eed",
          "grade": false,
          "grade_id": "cell-521cd0bd2131e12d",
          "locked": false,
          "schema_version": 3,
          "solution": true,
          "task": false
        },
        "id": "457959f2"
      },
      "outputs": [],
      "source": [
        "def calculate_omega(aa1, aa2):\n",
        "    \"\"\" Given two consecutive amino acids, calculate the omega angle between them \n",
        "        Return the angle in degrees \"\"\"\n",
        "    N_INDEX = 'N'\n",
        "    C_ALPHA_INDEX = 'CA'\n",
        "    C_INDEX = 'C'\n",
        "\n",
        "    ca_1 = np.array(aa1[C_ALPHA_INDEX])\n",
        "    c_1 = np.array(aa1[C_INDEX])\n",
        "    n_2 = np.array(aa2[N_INDEX])\n",
        "    ca_2 = np.array(aa2[C_ALPHA_INDEX])\n",
        "    \n",
        "    atom_vecs = [ca_1, c_1, n_2, ca_2]\n",
        "\n",
        "    # difference vectors\n",
        "    u_1 = atom_vecs[1] - atom_vecs[0]\n",
        "    u_2 = atom_vecs[2] - atom_vecs[1]\n",
        "    u_3 = atom_vecs[3] - atom_vecs[2]\n",
        "\n",
        "    l_1 = np.linalg.norm(u_1)\n",
        "    l_2 = np.linalg.norm(u_2)\n",
        "    l_3 = np.linalg.norm(u_3)\n",
        "\n",
        "    n_1 = np.cross(u_1, u_2)\n",
        "    n_2 = np.cross(u_2, u_3)\n",
        "    \n",
        "    u = n_1 / np.linalg.norm(n_1)\n",
        "    v = n_2 / np.linalg.norm(n_2)\n",
        "    \n",
        "    u_dot_v = np.dot(u, v)\n",
        "    radians = np.arccos(u_dot_v)\n",
        "    \n",
        "    sign = np.sign(np.dot(u, u_3))\n",
        "    omega = np.degrees(radians)\n",
        "    \n",
        "    if sign != np.sign(omega):\n",
        "        omega = -1 * omega\n",
        "\n",
        "    return omega"
      ]
    },
    {
      "cell_type": "code",
      "execution_count": 20,
      "id": "b94bb7d5",
      "metadata": {
        "deletable": false,
        "editable": false,
        "nbgrader": {
          "cell_type": "code",
          "checksum": "2e5a3054f7f5ae30293ea14532e20db4",
          "grade": true,
          "grade_id": "cell-adbe0baaea227577",
          "locked": true,
          "points": 10,
          "schema_version": 3,
          "solution": false,
          "task": false
        },
        "id": "b94bb7d5"
      },
      "outputs": [],
      "source": [
        "test_protein = read_pdb_file('hw2.pdb')\n",
        "assert np.isclose(calculate_omega(test_protein[1], test_protein[2]), 176.6244)"
      ]
    },
    {
      "cell_type": "code",
      "execution_count": 21,
      "id": "cb657df0",
      "metadata": {
        "deletable": false,
        "nbgrader": {
          "cell_type": "code",
          "checksum": "aad1e6fe6c5dc7411ecf08d9ca1f2db5",
          "grade": false,
          "grade_id": "cell-bd5bd89d6bf6fe4c",
          "locked": false,
          "schema_version": 3,
          "solution": true,
          "task": false
        },
        "id": "cb657df0"
      },
      "outputs": [],
      "source": [
        "def calculate_all(protein_dict):\n",
        "    \"\"\" For a given amino acid sequence, calculate all possible phi, psi, omega, theta angles and bond distances,\n",
        "        vectors, using the functions defined before \"\"\"\n",
        "    size = len(protein_dict)\n",
        "    phi_list = [0] * size\n",
        "    psi_list = [0] * size\n",
        "    omega_list = [0] * size\n",
        "    torsion_list = []\n",
        "\n",
        "    phi_list[0] = np.degrees(np.pi)\n",
        "    psi_list[-1] = None\n",
        "    omega_list[-1] = None\n",
        "    \n",
        "    # I added a new list. This is the list of all consecutive torsion angles, with the first one set to 180 by default. This simplifies calculations.\n",
        "    torsion_list.append(phi_list[0])\n",
        "\n",
        "    for i in range(size-1):\n",
        "      new_psi = calculate_psi(protein_dict[i+1], protein_dict[i+2])\n",
        "      psi_list[i] = new_psi\n",
        "      new_omega = calculate_omega(protein_dict[i+1], protein_dict[i+2])\n",
        "      omega_list[i] = new_omega\n",
        "      new_phi = calculate_phi(protein_dict[i+1], protein_dict[i+2])\n",
        "      phi_list[i+1] = new_phi\n",
        "      torsion_list.append(new_psi)\n",
        "      torsion_list.append(new_omega)\n",
        "      torsion_list.append(new_phi)\n",
        "\n",
        "    return phi_list, psi_list, omega_list, torsion_list"
      ]
    },
    {
      "cell_type": "code",
      "execution_count": 22,
      "id": "f0a8d1be",
      "metadata": {
        "deletable": false,
        "editable": false,
        "nbgrader": {
          "cell_type": "code",
          "checksum": "06383afc33ded775659fb8d467c163c5",
          "grade": true,
          "grade_id": "cell-eeb0fe95d96a90b8",
          "locked": true,
          "points": 5,
          "schema_version": 3,
          "solution": false,
          "task": false
        },
        "id": "f0a8d1be"
      },
      "outputs": [],
      "source": [
        "test_protein = read_pdb_file('hw2.pdb')\n",
        "assert np.isclose(calculate_all(test_protein)[0][5], -91.1347)\n",
        "assert calculate_all(test_protein)[1][-1] == None\n",
        "assert (np.isclose(calculate_all(test_protein)[2][3], -177.8886)) or (np.isclose(calculate_all(test_protein)[2][3], 2.1114))"
      ]
    },
    {
      "cell_type": "markdown",
      "id": "8b35226e",
      "metadata": {
        "deletable": false,
        "editable": false,
        "nbgrader": {
          "cell_type": "markdown",
          "checksum": "7d8e9155539145e3c4661a8ed1ed4c98",
          "grade": false,
          "grade_id": "cell-0d83979f85602b2e",
          "locked": true,
          "schema_version": 3,
          "solution": false,
          "task": false
        },
        "id": "8b35226e"
      },
      "source": [
        "### Part 4 - Transformation Matrix (25 Points)"
      ]
    },
    {
      "cell_type": "code",
      "execution_count": 55,
      "id": "63685216",
      "metadata": {
        "id": "63685216"
      },
      "outputs": [],
      "source": [
        "def transformation_matrix(phi, theta):\n",
        "    pi = np.degrees(np.pi)\n",
        "    # Apparently, np.sin() and np.cos() accepts values in radians, so these transformations were necessary.\n",
        "    phi = np.deg2rad(phi, dtype=float)\n",
        "    theta = np.deg2rad(theta, dtype=float)\n",
        "    t = np.array([[np.cos(theta), np.sin(theta), 0],\n",
        "                  [-np.sin(theta) * np.cos(phi), np.cos(theta) * np.cos(phi), -np.sin(phi)],\n",
        "                  [-np.sin(theta) * np.sin(phi), np.cos(theta) * np.sin(phi), np.cos(phi)]])\n",
        "  \n",
        "    return t"
      ]
    },
    {
      "cell_type": "code",
      "execution_count": 47,
      "id": "75ef50b7",
      "metadata": {
        "deletable": false,
        "nbgrader": {
          "cell_type": "code",
          "checksum": "7f196daca8696ce30997c7ebaeb3149b",
          "grade": false,
          "grade_id": "cell-e798e7b0c36b05d7",
          "locked": false,
          "schema_version": 3,
          "solution": true,
          "task": false
        },
        "id": "75ef50b7"
      },
      "outputs": [],
      "source": [
        "def calculate_bond(aa1, aa2):\n",
        "    \"\"\" Given two consecutive amino acids, calculate the bond length between their CA atoms \"\"\"\n",
        "    CA_INDEX = 'CA'\n",
        "    bond_dist = np.linalg.norm(np.array(aa1[CA_INDEX]) - np.array(aa2[CA_INDEX]))\n",
        "    bond_vector = np.array([bond_dist, 0, 0])\n",
        "    return bond_dist, bond_vector"
      ]
    },
    {
      "cell_type": "markdown",
      "source": [
        "Apply back transformation for all possible atoms in the given pdb file, using the functions you defined previously (transformation_matrix, calculate_phi, etc.)"
      ],
      "metadata": {
        "id": "2t1VEA_HWb01"
      },
      "id": "2t1VEA_HWb01"
    },
    {
      "cell_type": "code",
      "source": [
        "def unit_vector(vector):\n",
        "    \"\"\" Returns the unit vector of the vector.  \"\"\"\n",
        "    return vector / np.linalg.norm(vector)\n",
        "\n",
        "def calculate_theta(v1, v2):\n",
        "    \"\"\" Returns the angle in radians between vectors 'v1' and 'v2'\n",
        "    \"\"\"\n",
        "    v1_u = unit_vector(v1)\n",
        "    v2_u = unit_vector(v2)\n",
        "    return np.arccos(np.clip(np.dot(v1_u, v2_u), -1.0, 1.0))"
      ],
      "metadata": {
        "id": "dsrrzMuvulDd"
      },
      "id": "dsrrzMuvulDd",
      "execution_count": 48,
      "outputs": []
    },
    {
      "cell_type": "code",
      "source": [
        "def get_coords(test_protein):\n",
        "  # returns a list of successive atom coordinates from a given residue dictionary.\n",
        "  return np.array([(test_protein[i]['N'], test_protein[i]['CA'], test_protein[i]['C']) for i in range(1, len(test_protein)+1)]).reshape(-1,3)\n",
        "\n",
        "def get_distance_vectors(coords):\n",
        "  # returns a list of distance vectors by subtracting successive elements from the given coordinate list.\n",
        "  return np.array([coords[i+1] - coords[i] for i in range(len(coords) - 1)])\n",
        "\n",
        "def get_thetas(distance_vectors):\n",
        "  # calculates the outer angles $\\theta_{i+1}$ necessary for the construction of transformation matrices.\n",
        "  return np.degrees(np.array([calculate_theta(distance_vectors[i], distance_vectors[i+1]) for i in range(len(distance_vectors) - 1)]))"
      ],
      "metadata": {
        "id": "il1vJIQqxMqj"
      },
      "id": "il1vJIQqxMqj",
      "execution_count": 49,
      "outputs": []
    },
    {
      "cell_type": "code",
      "execution_count": 58,
      "id": "5979b815",
      "metadata": {
        "deletable": false,
        "nbgrader": {
          "cell_type": "code",
          "checksum": "d8b95c1b8dc2dc23502e13bab0a3d117",
          "grade": false,
          "grade_id": "cell-fb5adb1fd997c346",
          "locked": false,
          "schema_version": 3,
          "solution": true,
          "task": false
        },
        "id": "5979b815",
        "colab": {
          "base_uri": "https://localhost:8080/"
        },
        "outputId": "ff2a0886-6dde-43d8-b2d9-3b9431257183"
      },
      "outputs": [
        {
          "output_type": "stream",
          "name": "stdout",
          "text": [
            "[array([3.80515046, 0.        , 0.        ]), array([ 5.06872253,  3.57121024, -0.        ]), array([ 8.85457066,  3.57121024, -0.        ]), array([10.61287963,  6.08957226, -2.25010385]), array([14.38370067,  6.30634228, -2.1835199 ]), array([15.44021561,  8.96051544,  0.30539211]), array([17.45101594,  7.71865686,  3.26770207]), array([19.05309303, 10.06722069,  5.80130778])]\n"
          ]
        },
        {
          "output_type": "stream",
          "name": "stderr",
          "text": [
            "/usr/local/lib/python3.7/dist-packages/ipykernel_launcher.py:5: VisibleDeprecationWarning: Creating an ndarray from ragged nested sequences (which is a list-or-tuple of lists-or-tuples-or ndarrays with different lengths or shapes) is deprecated. If you meant to do this, you must specify 'dtype=object' when creating the ndarray.\n",
            "  \"\"\"\n"
          ]
        }
      ],
      "source": [
        "transformed_list = []\n",
        "test_protein = read_pdb_file('hw2.pdb')\n",
        "phi_list, psi_list, omega_list, phis = calculate_all(test_protein)\n",
        "\n",
        "# get local frame vectors (l_s)\n",
        "size = len(test_protein)\n",
        "bond_info = np.array([calculate_bond(test_protein[i], test_protein[i+1]) for i in range(1, size-1)])\n",
        "l_s = np.array(bond_info[:, 1])\n",
        "\n",
        "# get thetas for transformation matrices\n",
        "thetas = get_thetas(get_distance_vectors(get_coords(test_protein)))\n",
        "\n",
        "# calculate transformation matrices\n",
        "T_s = np.array([transformation_matrix(phi, theta) for phi, theta in zip(phis, thetas)])\n",
        "\n",
        "# since first back-transformed coordinate will be the local frame coordinate, I add it before entering the loop.\n",
        "transformed_list.append(l_s[0])\n",
        "\n",
        "# This part treats the transformed_list as a stack: I read the top element, multiply successive transformation matrices that are necessary for that step, then multiply that value with the local frame vector.\n",
        "# Then, I sum the two, and add the new value into the stack.\n",
        "for i in range(len(l_s) - 1):\n",
        "  T = T_s[0]\n",
        "  for j in range(i):\n",
        "    T = T @ T_s[j]\n",
        "  transformed_list.append(transformed_list[-1] + np.dot(T, l_s[i+1]))\n",
        "\n",
        "print(transformed_list)"
      ]
    },
    {
      "cell_type": "markdown",
      "id": "f51bcfd6",
      "metadata": {
        "deletable": false,
        "editable": false,
        "nbgrader": {
          "cell_type": "markdown",
          "checksum": "ed43044e16e086e5a5bab3a063767bba",
          "grade": false,
          "grade_id": "cell-45ec4e5542ebacbd",
          "locked": true,
          "schema_version": 3,
          "solution": false,
          "task": false
        },
        "id": "f51bcfd6"
      },
      "source": [
        "### Part 5 - Ramachandran Map (15 Points)\n",
        "\n",
        "Draw the ramachandran map for the peptide. You should use matplotlib for this part. An introductory tutorial exists here: https://matplotlib.org/stable/tutorials/introductory/pyplot.html. For the most basic case, you may want to check plt.scatter() and plt.xlabel(), plt.ylabel().\n",
        "\n",
        "Even this short tutorial is too detailed for our purposes here, first three cells in this documentation should be enough for this task. But, of course you can improve your plot with additional properties (coloring, size, gridlines, etc.) if you wish to. \n",
        "\n",
        "Do not forget to put axis labels on your plot!"
      ]
    },
    {
      "cell_type": "code",
      "execution_count": 71,
      "id": "ea2ba784",
      "metadata": {
        "deletable": false,
        "nbgrader": {
          "cell_type": "code",
          "checksum": "bffc6435d764dd0af9c99fcd20840af8",
          "grade": false,
          "grade_id": "cell-cb4a703750add221",
          "locked": false,
          "schema_version": 3,
          "solution": true,
          "task": false
        },
        "id": "ea2ba784",
        "colab": {
          "base_uri": "https://localhost:8080/",
          "height": 316
        },
        "outputId": "b33e8f49-4b44-4e32-a482-5dc323fa91da"
      },
      "outputs": [
        {
          "output_type": "execute_result",
          "data": {
            "text/plain": [
              "(-180.0, 180.0)"
            ]
          },
          "metadata": {},
          "execution_count": 71
        },
        {
          "output_type": "display_data",
          "data": {
            "text/plain": [
              "<Figure size 432x288 with 1 Axes>"
            ],
            "image/png": "[encoded data removed]"
          },
          "metadata": {
            "needs_background": "light"
          }
        }
      ],
      "source": [
        "protein_structure = read_pdb_file('hw2.pdb')\n",
        "phi_list, psi_list, _, _ = calculate_all(protein_structure)\n",
        "\n",
        "plt.scatter(phi_list, psi_list)\n",
        "plt.grid()\n",
        "plt.title('Ramachandran Map for hw2.pdb')\n",
        "plt.xlabel('$\\phi$')\n",
        "plt.ylabel('$\\Psi$')\n",
        "plt.xlim(-180, 180)\n",
        "plt.ylim(-180, 180)"
      ]
    },
    {
      "cell_type": "markdown",
      "id": "d49542e9",
      "metadata": {
        "deletable": false,
        "editable": false,
        "nbgrader": {
          "cell_type": "markdown",
          "checksum": "32808989d011ba04b070d768ad422367",
          "grade": false,
          "grade_id": "cell-8d463aff39ecf33e",
          "locked": true,
          "schema_version": 3,
          "solution": false,
          "task": false
        },
        "id": "d49542e9"
      },
      "source": [
        "Question: According to you Ramachandran map, is the peptide you are given an alpha-helix, beta-sheet, or loop region? Write your answer in the cell below."
      ]
    },
    {
      "cell_type": "markdown",
      "id": "43fd0b5f",
      "metadata": {
        "deletable": false,
        "nbgrader": {
          "cell_type": "markdown",
          "checksum": "ca5596f6c1fc21348324e817e945f4f3",
          "grade": true,
          "grade_id": "cell-e82ef17d15f05680",
          "locked": false,
          "points": 5,
          "schema_version": 3,
          "solution": true,
          "task": false
        },
        "id": "43fd0b5f"
      },
      "source": [
        "According to the Ramachandran Map, this given peptide forms a $\\beta$-sheet."
      ]
    }
  ],
  "metadata": {
    "kernelspec": {
      "display_name": "Python 3 (ipykernel)",
      "language": "python",
      "name": "python3"
    },
    "language_info": {
      "codemirror_mode": {
        "name": "ipython",
        "version": 3
      },
      "file_extension": ".py",
      "mimetype": "text/x-python",
      "name": "python",
      "nbconvert_exporter": "python",
      "pygments_lexer": "ipython3",
      "version": "3.8.12"
    },
    "colab": {
      "name": "CHBI422_522_Spring2022_Homework2_bhokelek16.ipynb",
      "provenance": [],
      "collapsed_sections": []
    }
  },
  "nbformat": 4,
  "nbformat_minor": 5
}